{
 "cells": [
  {
   "cell_type": "markdown",
   "id": "72967a12",
   "metadata": {},
   "source": [
    "# Outlier"
   ]
  },
  {
   "cell_type": "code",
   "execution_count": null,
   "id": "0b0e856f",
   "metadata": {},
   "outputs": [],
   "source": [
    "Datapoints which are far away from the observation.\n",
    "\n",
    "Outliers are the datapoints which does not match the property of group."
   ]
  },
  {
   "cell_type": "code",
   "execution_count": 37,
   "id": "ec141e15",
   "metadata": {},
   "outputs": [],
   "source": [
    "import numpy as np\n",
    "import pandas as pd\n",
    "import seaborn as sns\n",
    "import matplotlib.pyplot as plt\n",
    "\n",
    "from scipy.stats import zscore, skew"
   ]
  },
  {
   "cell_type": "code",
   "execution_count": 4,
   "id": "2a430da4",
   "metadata": {},
   "outputs": [
    {
     "data": {
      "text/plain": [
       "array([24, 20, 20, 29, 30, 20, 30, 22, 22, 25, 22, 29, 30, 23, 24, 26, 23,\n",
       "       24, 20, 27])"
      ]
     },
     "execution_count": 4,
     "metadata": {},
     "output_type": "execute_result"
    }
   ],
   "source": [
    "np.random.randint(20,31, size = 20)"
   ]
  },
  {
   "cell_type": "code",
   "execution_count": 5,
   "id": "955b9c43",
   "metadata": {},
   "outputs": [
    {
     "data": {
      "text/plain": [
       "array([24, 20, 20, 29, 30, 20, 30, 22, 22, 25, 22, 29, 30, 23, 24, 26, 23,\n",
       "       24, 20, 27])"
      ]
     },
     "execution_count": 5,
     "metadata": {},
     "output_type": "execute_result"
    }
   ],
   "source": [
    "array1 = np.array([24, 20, 20, 29, 30, 20, 30, 22, 22, 25, 22, 29, 30, 23, 24, 26, 23, 24, 20, 27])\n",
    "array1"
   ]
  },
  {
   "cell_type": "code",
   "execution_count": 7,
   "id": "082d81c4",
   "metadata": {},
   "outputs": [
    {
     "data": {
      "text/plain": [
       "24.5"
      ]
     },
     "execution_count": 7,
     "metadata": {},
     "output_type": "execute_result"
    }
   ],
   "source": [
    "np.mean(array1)"
   ]
  },
  {
   "cell_type": "code",
   "execution_count": 9,
   "id": "15b424f9",
   "metadata": {},
   "outputs": [
    {
     "data": {
      "text/plain": [
       "24.0"
      ]
     },
     "execution_count": 9,
     "metadata": {},
     "output_type": "execute_result"
    }
   ],
   "source": [
    "np.median(array1)"
   ]
  },
  {
   "cell_type": "code",
   "execution_count": 6,
   "id": "750f6d5e",
   "metadata": {},
   "outputs": [
    {
     "data": {
      "text/plain": [
       "array([ 24,  20,  20,  29, 300,  20,  30,  22,  22,  25,  22, 290,  30,\n",
       "        23,  24,  26,  23,  24,  20,  27])"
      ]
     },
     "execution_count": 6,
     "metadata": {},
     "output_type": "execute_result"
    }
   ],
   "source": [
    "array2 = np.array([24, 20, 20, 29, 300, 20, 30, 22, 22, 25, 22, 290, 30, 23, 24, 26, 23, 24, 20, 27])\n",
    "array2"
   ]
  },
  {
   "cell_type": "code",
   "execution_count": 8,
   "id": "2bb5a34b",
   "metadata": {},
   "outputs": [
    {
     "data": {
      "text/plain": [
       "51.05"
      ]
     },
     "execution_count": 8,
     "metadata": {},
     "output_type": "execute_result"
    }
   ],
   "source": [
    "np.mean(array2)"
   ]
  },
  {
   "cell_type": "code",
   "execution_count": 10,
   "id": "6671eb64",
   "metadata": {},
   "outputs": [
    {
     "data": {
      "text/plain": [
       "24.0"
      ]
     },
     "execution_count": 10,
     "metadata": {},
     "output_type": "execute_result"
    }
   ],
   "source": [
    "np.median(array2)"
   ]
  },
  {
   "cell_type": "markdown",
   "id": "618ad84c",
   "metadata": {},
   "source": [
    "# How outliers are introduce in datasets"
   ]
  },
  {
   "cell_type": "code",
   "execution_count": null,
   "id": "ae5f60c3",
   "metadata": {},
   "outputs": [],
   "source": [
    "1. Data Entry Operator\n",
    "2. Machine/Instrumental Error\n",
    "3. Intensional Error/Dummy Errors\n",
    "4. Sampling Error  --> Mixing of data from wrong resources\n",
    "5. Natural Error --> "
   ]
  },
  {
   "cell_type": "markdown",
   "id": "ea674e87",
   "metadata": {},
   "source": [
    "# Impact of Outlier on Model"
   ]
  },
  {
   "cell_type": "code",
   "execution_count": null,
   "id": "44c71262",
   "metadata": {},
   "outputs": [],
   "source": [
    "1. It will reduce the power of statistical analysis.\n",
    "2. High impact on mean value and std. deviation\n",
    "3. Algorithm do not perform well\n",
    "4. Accuracy of model decreases\n",
    "5. Impact on basic assumptions of regression."
   ]
  },
  {
   "cell_type": "markdown",
   "id": "6e54dd88",
   "metadata": {},
   "source": [
    "# How to detect outlier"
   ]
  },
  {
   "cell_type": "code",
   "execution_count": null,
   "id": "631b993c",
   "metadata": {},
   "outputs": [],
   "source": [
    "1. Boxplot\n",
    "2. scatterplot\n",
    "3. z-score\n",
    "4. IQR Method"
   ]
  },
  {
   "cell_type": "markdown",
   "id": "434477c9",
   "metadata": {},
   "source": [
    "# Impact of Outlier on ML Algorithms"
   ]
  },
  {
   "cell_type": "markdown",
   "id": "e324251c",
   "metadata": {},
   "source": [
    "## 1. Sensetive to Outliers"
   ]
  },
  {
   "cell_type": "code",
   "execution_count": null,
   "id": "65753477",
   "metadata": {},
   "outputs": [],
   "source": [
    "# linear algorithms\n",
    "1. Linear Regression\n",
    "2. Logistic Regression\n",
    "\n",
    "# Distance based algorithms\n",
    "3. K- Nearest Neighbour\n",
    "4. Support vector Machine\n",
    "5. K-Mean Clustering"
   ]
  },
  {
   "cell_type": "markdown",
   "id": "92c773c6",
   "metadata": {},
   "source": [
    "## 2. Non Sensetive to Outliers"
   ]
  },
  {
   "cell_type": "code",
   "execution_count": null,
   "id": "c28679cb",
   "metadata": {},
   "outputs": [],
   "source": [
    "# Tree Based Algorithms\n",
    "1. Decision Tree\n",
    "2. Random Forest\n",
    "\n",
    "# Ensembling Techniques\n",
    "3. AdaBoost\n",
    "4. Gradient Boosting\n",
    "5. XGBoost\n",
    "\n",
    "# Conditional Probability\n",
    "6. Naive Bayes"
   ]
  },
  {
   "cell_type": "markdown",
   "id": "08436f16",
   "metadata": {},
   "source": [
    "# How to handle outliers"
   ]
  },
  {
   "cell_type": "code",
   "execution_count": null,
   "id": "78ab9e59",
   "metadata": {},
   "outputs": [],
   "source": [
    "1. Delete the observation\n",
    "\n",
    "2. Imputation Techniques:\n",
    "    1. Median\n",
    "    2. Mean\n",
    "    3. Mode\n",
    "    4. Minimum Value\n",
    "    5. maximum Value\n",
    "    6. Static Value\n",
    "    7. Upper Tail\n",
    "    8. Lower Tail\n",
    "    \n",
    "3. Transformation Technique: (Reduce the impact of outlier)\n",
    "    1. Log transformation\n",
    "    2. Square root transformation\n",
    "    3. Cube root tranformation\n",
    "    4. Reciprocal Tranformation\n",
    "    5. Stnadardization\n",
    "    6. Normalization"
   ]
  },
  {
   "cell_type": "markdown",
   "id": "fe725cd5",
   "metadata": {},
   "source": [
    "# 1. z-score method"
   ]
  },
  {
   "cell_type": "markdown",
   "id": "1431cb37",
   "metadata": {},
   "source": [
    "### 1.1 Formulae Method"
   ]
  },
  {
   "cell_type": "code",
   "execution_count": null,
   "id": "fed58a2b",
   "metadata": {},
   "outputs": [],
   "source": [
    "This method is equivalent to standardization Method.\n",
    "\n",
    "z_score = (X - Xmean)/ std"
   ]
  },
  {
   "cell_type": "code",
   "execution_count": 12,
   "id": "36283c7a",
   "metadata": {},
   "outputs": [
    {
     "data": {
      "text/plain": [
       "array([24, 20, 20, 29, 30, 20, 30, 22, 22, 25, 22, 29, 30, 23, 24, 26, 23,\n",
       "       24, 20, 27])"
      ]
     },
     "execution_count": 12,
     "metadata": {},
     "output_type": "execute_result"
    }
   ],
   "source": [
    "array1"
   ]
  },
  {
   "cell_type": "code",
   "execution_count": 21,
   "id": "8484e888",
   "metadata": {
    "scrolled": true
   },
   "outputs": [
    {
     "data": {
      "text/plain": [
       "<AxesSubplot:ylabel='Density'>"
      ]
     },
     "execution_count": 21,
     "metadata": {},
     "output_type": "execute_result"
    },
    {
     "data": {
      "image/png": "[encoded data removed]",
      "text/plain": [
       "<Figure size 432x288 with 1 Axes>"
      ]
     },
     "metadata": {
      "needs_background": "light"
     },
     "output_type": "display_data"
    }
   ],
   "source": [
    "sns.kdeplot(array1)"
   ]
  },
  {
   "cell_type": "code",
   "execution_count": 38,
   "id": "2226fdd7",
   "metadata": {},
   "outputs": [
    {
     "data": {
      "text/plain": [
       "0.32886297376093293"
      ]
     },
     "execution_count": 38,
     "metadata": {},
     "output_type": "execute_result"
    }
   ],
   "source": [
    "skew(array1)"
   ]
  },
  {
   "cell_type": "code",
   "execution_count": 13,
   "id": "bb6cf948",
   "metadata": {},
   "outputs": [
    {
     "data": {
      "text/plain": [
       "24.5"
      ]
     },
     "execution_count": 13,
     "metadata": {},
     "output_type": "execute_result"
    }
   ],
   "source": [
    "mean = np.mean(array1)\n",
    "mean"
   ]
  },
  {
   "cell_type": "code",
   "execution_count": 14,
   "id": "d17a10ea",
   "metadata": {},
   "outputs": [
    {
     "data": {
      "text/plain": [
       "3.5"
      ]
     },
     "execution_count": 14,
     "metadata": {},
     "output_type": "execute_result"
    }
   ],
   "source": [
    "std = np.std(array1)\n",
    "std"
   ]
  },
  {
   "cell_type": "code",
   "execution_count": 15,
   "id": "9f17f675",
   "metadata": {},
   "outputs": [
    {
     "data": {
      "text/plain": [
       "-0.14285714285714285"
      ]
     },
     "execution_count": 15,
     "metadata": {},
     "output_type": "execute_result"
    }
   ],
   "source": [
    "z_score_24 = (24 - mean)/ std\n",
    "z_score_24"
   ]
  },
  {
   "cell_type": "code",
   "execution_count": 16,
   "id": "a1b2ce0f",
   "metadata": {},
   "outputs": [
    {
     "data": {
      "text/plain": [
       "1.2857142857142858"
      ]
     },
     "execution_count": 16,
     "metadata": {},
     "output_type": "execute_result"
    }
   ],
   "source": [
    "z_score_29 = (29 - mean)/ std\n",
    "z_score_29"
   ]
  },
  {
   "cell_type": "code",
   "execution_count": 32,
   "id": "d7a19ddc",
   "metadata": {},
   "outputs": [
    {
     "name": "stdout",
     "output_type": "stream",
     "text": [
      "Array1 --> [24 20 20 29 30 20 30 22 22 25 22 29 30 23 24 26 23 24 20 27]\n",
      "\n",
      "z_score_list --> [-0.14285714285714285, -1.2857142857142858, -1.2857142857142858, 1.2857142857142858, 1.5714285714285714, -1.2857142857142858, 1.5714285714285714, -0.7142857142857143, -0.7142857142857143, 0.14285714285714285, -0.7142857142857143, 1.2857142857142858, 1.5714285714285714, -0.42857142857142855, -0.14285714285714285, 0.42857142857142855, -0.42857142857142855, -0.14285714285714285, -1.2857142857142858, 0.7142857142857143]\n",
      "\n",
      "outliers_list --> []\n"
     ]
    }
   ],
   "source": [
    "threshold = 2\n",
    "z_score_list = []\n",
    "outliers_list = []\n",
    "\n",
    "for i in array1:\n",
    "    z_score = (i - mean)/ std\n",
    "    z_score_list.append(z_score)\n",
    "    \n",
    "    if np.abs(z_score) >= threshold:\n",
    "        outliers_list.append(i)\n",
    "\n",
    "print(\"Array1 -->\",array1)\n",
    "print()\n",
    "print(\"z_score_list -->\",z_score_list)\n",
    "print()\n",
    "print(\"outliers_list -->\",outliers_list)"
   ]
  },
  {
   "cell_type": "code",
   "execution_count": 22,
   "id": "b0d921a1",
   "metadata": {},
   "outputs": [
    {
     "data": {
      "text/plain": [
       "array([ 24,  20,  20,  29, 300,  20,  30,  22,  22,  25,  22, 290,  30,\n",
       "        23,  24,  26,  23,  24,  20,  27])"
      ]
     },
     "execution_count": 22,
     "metadata": {},
     "output_type": "execute_result"
    }
   ],
   "source": [
    "array2"
   ]
  },
  {
   "cell_type": "code",
   "execution_count": 23,
   "id": "8ecefe52",
   "metadata": {
    "scrolled": true
   },
   "outputs": [
    {
     "data": {
      "text/plain": [
       "<AxesSubplot:ylabel='Density'>"
      ]
     },
     "execution_count": 23,
     "metadata": {},
     "output_type": "execute_result"
    },
    {
     "data": {
      "image/png": "[encoded data removed]",
      "text/plain": [
       "<Figure size 432x288 with 1 Axes>"
      ]
     },
     "metadata": {
      "needs_background": "light"
     },
     "output_type": "display_data"
    }
   ],
   "source": [
    "sns.kdeplot(array2)"
   ]
  },
  {
   "cell_type": "code",
   "execution_count": 39,
   "id": "ea00e413",
   "metadata": {},
   "outputs": [
    {
     "data": {
      "text/plain": [
       "2.6614562016889978"
      ]
     },
     "execution_count": 39,
     "metadata": {},
     "output_type": "execute_result"
    }
   ],
   "source": [
    "skew(array2)"
   ]
  },
  {
   "cell_type": "code",
   "execution_count": 33,
   "id": "b87eb4d0",
   "metadata": {},
   "outputs": [
    {
     "data": {
      "text/plain": [
       "array([ 24,  20,  20,  29, 300,  20,  30,  22,  22,  25,  22, 290,  30,\n",
       "        23,  24,  26,  23,  24,  20,  27])"
      ]
     },
     "execution_count": 33,
     "metadata": {},
     "output_type": "execute_result"
    }
   ],
   "source": [
    "array2"
   ]
  },
  {
   "cell_type": "code",
   "execution_count": 35,
   "id": "f4666065",
   "metadata": {},
   "outputs": [
    {
     "name": "stdout",
     "output_type": "stream",
     "text": [
      "Array2 --> [ 24  20  20  29 300  20  30  22  22  25  22 290  30  23  24  26  23  24\n",
      "  20  27]\n",
      "\n",
      "z_score_list --> [-0.14285714285714285, -1.2857142857142858, -1.2857142857142858, 1.2857142857142858, 78.71428571428571, -1.2857142857142858, 1.5714285714285714, -0.7142857142857143, -0.7142857142857143, 0.14285714285714285, -0.7142857142857143, 75.85714285714286, 1.5714285714285714, -0.42857142857142855, -0.14285714285714285, 0.42857142857142855, -0.42857142857142855, -0.14285714285714285, -1.2857142857142858, 0.7142857142857143]\n",
      "\n",
      "outliers_list --> [300, 290]\n"
     ]
    }
   ],
   "source": [
    "threshold = 3\n",
    "z_score_list = []\n",
    "outliers_list = []\n",
    "\n",
    "for i in array2:\n",
    "    z_score = (i - mean)/ std\n",
    "    z_score_list.append(z_score)\n",
    "    \n",
    "    if np.abs(z_score) >= threshold:\n",
    "        outliers_list.append(i)\n",
    "\n",
    "print(\"Array2 -->\",array2)\n",
    "print()\n",
    "print(\"z_score_list -->\",z_score_list)\n",
    "print()\n",
    "print(\"outliers_list -->\",outliers_list)"
   ]
  },
  {
   "cell_type": "markdown",
   "id": "ea7db272",
   "metadata": {},
   "source": [
    "### 2. By Function"
   ]
  },
  {
   "cell_type": "code",
   "execution_count": 46,
   "id": "bfc38a2e",
   "metadata": {},
   "outputs": [
    {
     "data": {
      "text/plain": [
       "array([30, 30, 30])"
      ]
     },
     "execution_count": 46,
     "metadata": {},
     "output_type": "execute_result"
    }
   ],
   "source": [
    "z_score_val = np.abs(zscore(array1))\n",
    "\n",
    "outlier_index = np.where(z_score_val >=1.5)[0]\n",
    "\n",
    "outlier_val = array1[outlier_index]\n",
    "outlier_val"
   ]
  },
  {
   "cell_type": "code",
   "execution_count": 47,
   "id": "e0a162a2",
   "metadata": {},
   "outputs": [
    {
     "data": {
      "text/plain": [
       "array([ 24,  20,  20,  29, 300,  20,  30,  22,  22,  25,  22, 290,  30,\n",
       "        23,  24,  26,  23,  24,  20,  27])"
      ]
     },
     "execution_count": 47,
     "metadata": {},
     "output_type": "execute_result"
    }
   ],
   "source": [
    "array2"
   ]
  },
  {
   "cell_type": "code",
   "execution_count": 51,
   "id": "db0c00db",
   "metadata": {},
   "outputs": [
    {
     "data": {
      "text/plain": [
       "array([300, 290])"
      ]
     },
     "execution_count": 51,
     "metadata": {},
     "output_type": "execute_result"
    }
   ],
   "source": [
    "z_score_val = np.abs(zscore(array2))\n",
    "\n",
    "outlier_index = np.where(z_score_val >=2.5)[0]\n",
    "\n",
    "outlier_val = array2[outlier_index]\n",
    "outlier_val"
   ]
  },
  {
   "cell_type": "code",
   "execution_count": null,
   "id": "8c57fe3e",
   "metadata": {},
   "outputs": [],
   "source": []
  }
 ],
 "metadata": {
  "kernelspec": {
   "display_name": "Python 3 (ipykernel)",
   "language": "python",
   "name": "python3"
  },
  "language_info": {
   "codemirror_mode": {
    "name": "ipython",
    "version": 3
   },
   "file_extension": ".py",
   "mimetype": "text/x-python",
   "name": "python",
   "nbconvert_exporter": "python",
   "pygments_lexer": "ipython3",
   "version": "3.9.12"
  }
 },
 "nbformat": 4,
 "nbformat_minor": 5
}
