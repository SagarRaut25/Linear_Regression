{
 "cells": [
  {
   "cell_type": "code",
   "execution_count": 19,
   "id": "22c4cb8e",
   "metadata": {},
   "outputs": [],
   "source": [
    "import pickle\n",
    "import json\n",
    "import numpy as np\n",
    "import pandas as pd\n",
    "\n",
    "# To avoid warnings\n",
    "import warnings\n",
    "warnings.filterwarnings('ignore')"
   ]
  },
  {
   "cell_type": "code",
   "execution_count": 2,
   "id": "84d1878f",
   "metadata": {},
   "outputs": [],
   "source": [
    "# read JSON\n",
    "\n",
    "with open(\"Label_encoded_columns.json\", \"r\") as f:\n",
    "    data = json.load(f)"
   ]
  },
  {
   "cell_type": "code",
   "execution_count": 4,
   "id": "22f309c1",
   "metadata": {},
   "outputs": [],
   "source": [
    "# Read Pickle File\n",
    "\n",
    "with open(\"Linear_model.pkl\", \"rb\") as f:\n",
    "    model = pickle.load(f)"
   ]
  },
  {
   "cell_type": "code",
   "execution_count": 5,
   "id": "1f568ce8",
   "metadata": {},
   "outputs": [
    {
     "data": {
      "text/html": [
       "<style>#sk-container-id-1 {color: black;background-color: white;}#sk-container-id-1 pre{padding: 0;}#sk-container-id-1 div.sk-toggleable {background-color: white;}#sk-container-id-1 label.sk-toggleable__label {cursor: pointer;display: block;width: 100%;margin-bottom: 0;padding: 0.3em;box-sizing: border-box;text-align: center;}#sk-container-id-1 label.sk-toggleable__label-arrow:before {content: \"▸\";float: left;margin-right: 0.25em;color: #696969;}#sk-container-id-1 label.sk-toggleable__label-arrow:hover:before {color: black;}#sk-container-id-1 div.sk-estimator:hover label.sk-toggleable__label-arrow:before {color: black;}#sk-container-id-1 div.sk-toggleable__content {max-height: 0;max-width: 0;overflow: hidden;text-align: left;background-color: #f0f8ff;}#sk-container-id-1 div.sk-toggleable__content pre {margin: 0.2em;color: black;border-radius: 0.25em;background-color: #f0f8ff;}#sk-container-id-1 input.sk-toggleable__control:checked~div.sk-toggleable__content {max-height: 200px;max-width: 100%;overflow: auto;}#sk-container-id-1 input.sk-toggleable__control:checked~label.sk-toggleable__label-arrow:before {content: \"▾\";}#sk-container-id-1 div.sk-estimator input.sk-toggleable__control:checked~label.sk-toggleable__label {background-color: #d4ebff;}#sk-container-id-1 div.sk-label input.sk-toggleable__control:checked~label.sk-toggleable__label {background-color: #d4ebff;}#sk-container-id-1 input.sk-hidden--visually {border: 0;clip: rect(1px 1px 1px 1px);clip: rect(1px, 1px, 1px, 1px);height: 1px;margin: -1px;overflow: hidden;padding: 0;position: absolute;width: 1px;}#sk-container-id-1 div.sk-estimator {font-family: monospace;background-color: #f0f8ff;border: 1px dotted black;border-radius: 0.25em;box-sizing: border-box;margin-bottom: 0.5em;}#sk-container-id-1 div.sk-estimator:hover {background-color: #d4ebff;}#sk-container-id-1 div.sk-parallel-item::after {content: \"\";width: 100%;border-bottom: 1px solid gray;flex-grow: 1;}#sk-container-id-1 div.sk-label:hover label.sk-toggleable__label {background-color: #d4ebff;}#sk-container-id-1 div.sk-serial::before {content: \"\";position: absolute;border-left: 1px solid gray;box-sizing: border-box;top: 0;bottom: 0;left: 50%;z-index: 0;}#sk-container-id-1 div.sk-serial {display: flex;flex-direction: column;align-items: center;background-color: white;padding-right: 0.2em;padding-left: 0.2em;position: relative;}#sk-container-id-1 div.sk-item {position: relative;z-index: 1;}#sk-container-id-1 div.sk-parallel {display: flex;align-items: stretch;justify-content: center;background-color: white;position: relative;}#sk-container-id-1 div.sk-item::before, #sk-container-id-1 div.sk-parallel-item::before {content: \"\";position: absolute;border-left: 1px solid gray;box-sizing: border-box;top: 0;bottom: 0;left: 50%;z-index: -1;}#sk-container-id-1 div.sk-parallel-item {display: flex;flex-direction: column;z-index: 1;position: relative;background-color: white;}#sk-container-id-1 div.sk-parallel-item:first-child::after {align-self: flex-end;width: 50%;}#sk-container-id-1 div.sk-parallel-item:last-child::after {align-self: flex-start;width: 50%;}#sk-container-id-1 div.sk-parallel-item:only-child::after {width: 0;}#sk-container-id-1 div.sk-dashed-wrapped {border: 1px dashed gray;margin: 0 0.4em 0.5em 0.4em;box-sizing: border-box;padding-bottom: 0.4em;background-color: white;}#sk-container-id-1 div.sk-label label {font-family: monospace;font-weight: bold;display: inline-block;line-height: 1.2em;}#sk-container-id-1 div.sk-label-container {text-align: center;}#sk-container-id-1 div.sk-container {/* jupyter's `normalize.less` sets `[hidden] { display: none; }` but bootstrap.min.css set `[hidden] { display: none !important; }` so we also need the `!important` here to be able to override the default hidden behavior on the sphinx rendered scikit-learn.org. See: https://github.com/scikit-learn/scikit-learn/issues/21755 */display: inline-block !important;position: relative;}#sk-container-id-1 div.sk-text-repr-fallback {display: none;}</style><div id=\"sk-container-id-1\" class=\"sk-top-container\"><div class=\"sk-text-repr-fallback\"><pre>LinearRegression()</pre><b>In a Jupyter environment, please rerun this cell to show the HTML representation or trust the notebook. <br />On GitHub, the HTML representation is unable to render, please try loading this page with nbviewer.org.</b></div><div class=\"sk-container\" hidden><div class=\"sk-item\"><div class=\"sk-estimator sk-toggleable\"><input class=\"sk-toggleable__control sk-hidden--visually\" id=\"sk-estimator-id-1\" type=\"checkbox\" checked><label for=\"sk-estimator-id-1\" class=\"sk-toggleable__label sk-toggleable__label-arrow\">LinearRegression</label><div class=\"sk-toggleable__content\"><pre>LinearRegression()</pre></div></div></div></div></div>"
      ],
      "text/plain": [
       "LinearRegression()"
      ]
     },
     "execution_count": 5,
     "metadata": {},
     "output_type": "execute_result"
    }
   ],
   "source": [
    "model"
   ]
  },
  {
   "cell_type": "code",
   "execution_count": 14,
   "id": "0c407b0f",
   "metadata": {},
   "outputs": [
    {
     "data": {
      "text/plain": [
       "{'fuel_type_value': {'gas': 1, 'diesel': 0},\n",
       " 'aspiration_value': {'std': 0, 'turbo': 1},\n",
       " 'num_of_doors_values': {'four': 4, 'two': 2},\n",
       " 'drive_wheels_values': {'fwd': 0, 'rwd': 1, '4wd': 2},\n",
       " 'column_names': ['symboling',\n",
       "  'normalized-losses',\n",
       "  'fuel-type',\n",
       "  'aspiration',\n",
       "  'num-of-doors',\n",
       "  'drive-wheels',\n",
       "  'engine-location',\n",
       "  'wheel-base',\n",
       "  'length',\n",
       "  'width',\n",
       "  'height',\n",
       "  'curb-weight',\n",
       "  'num-of-cylinders',\n",
       "  'engine-size',\n",
       "  'bore',\n",
       "  'stroke',\n",
       "  'compression-ratio',\n",
       "  'horsepower',\n",
       "  'peak-rpm',\n",
       "  'city-mpg',\n",
       "  'highway-mpg',\n",
       "  'body-style_convertible',\n",
       "  'body-style_hardtop',\n",
       "  'body-style_hatchback',\n",
       "  'body-style_sedan',\n",
       "  'body-style_wagon',\n",
       "  'engine-type_dohc',\n",
       "  'engine-type_dohcv',\n",
       "  'engine-type_l',\n",
       "  'engine-type_ohc',\n",
       "  'engine-type_ohcf',\n",
       "  'engine-type_ohcv',\n",
       "  'engine-type_rotor',\n",
       "  'fuel-system_1bbl',\n",
       "  'fuel-system_2bbl',\n",
       "  'fuel-system_4bbl',\n",
       "  'fuel-system_idi',\n",
       "  'fuel-system_mfi',\n",
       "  'fuel-system_mpfi',\n",
       "  'fuel-system_spdi',\n",
       "  'fuel-system_spfi']}"
      ]
     },
     "execution_count": 14,
     "metadata": {},
     "output_type": "execute_result"
    }
   ],
   "source": [
    "data"
   ]
  },
  {
   "cell_type": "code",
   "execution_count": 15,
   "id": "38145b68",
   "metadata": {},
   "outputs": [],
   "source": [
    "column_names = np.array(data['column_names'])\n",
    "fuel_type_value = data['fuel_type_value']\n",
    "aspiration_value = data['aspiration_value']\n",
    "num_of_doors_values = data['num_of_doors_values']\n",
    "drive_wheels_values = data['drive_wheels_values']"
   ]
  },
  {
   "cell_type": "code",
   "execution_count": null,
   "id": "ef27de24",
   "metadata": {},
   "outputs": [],
   "source": []
  },
  {
   "cell_type": "code",
   "execution_count": 26,
   "id": "32c8f542",
   "metadata": {},
   "outputs": [],
   "source": [
    "# Values Entered by User\n",
    "symboling = 3.00\n",
    "normalized_losses = 120.00\n",
    "fuel_type = 'gas'\n",
    "aspiration = 'turbo'\n",
    "num_of_doors = 'two'\n",
    "drive_wheels = '4wd'\n",
    "engine_location = 1.00\n",
    "wheel_base = 88.60\n",
    "length = 180.80\n",
    "width = 64.10\n",
    "height = 49.80\n",
    "curb_weight = 2550.00\n",
    "num_of_cylinders = 4.00\n",
    "engine_size = 136.00\n",
    "bore = 3.47\n",
    "stroke = 2.68\n",
    "compression_ratio = 9.00\n",
    "horsepower = 120.00\n",
    "peak_rpm = 8000.00\n",
    "city_mpg = 21.00\n",
    "highway_mpg = 27.00\n",
    "\n",
    "# One hot encoded columns\n",
    "body_style = \"hatchback\"\n",
    "engine_type = \"ohc\"\n",
    "fuel_system = \"mpfi\"\n",
    "\n",
    "body_style_col = \"body-style_\" + body_style\n",
    "engine_type_col = \"engine-type_\" + engine_type\n",
    "fule_system_col = \"fuel-system_\" + fuel_system\n",
    "\n",
    "body_style_index = np.where(column_names == body_style_col)[0][0]\n",
    "engine_type_index = np.where(column_names == engine_type_col)[0][0]\n",
    "fuel_system_index = np.where(column_names == fule_system_col)[0][0]"
   ]
  },
  {
   "cell_type": "code",
   "execution_count": 27,
   "id": "c22fb3c1",
   "metadata": {},
   "outputs": [
    {
     "name": "stdout",
     "output_type": "stream",
     "text": [
      "Predicted Price of your Car : 34184.993931489334 $\n"
     ]
    }
   ],
   "source": [
    "array = np.zeros(len(column_names), dtype = int)\n",
    "\n",
    "array[0] = symboling\n",
    "array[1] = normalized_losses\n",
    "array[2] = fuel_type_value[fuel_type]\n",
    "array[3] = aspiration_value[aspiration]\n",
    "array[4] = num_of_doors_values[num_of_doors]\n",
    "array[5] = drive_wheels_values[drive_wheels]\n",
    "array[6] = engine_location\n",
    "array[7] = wheel_base\n",
    "array[8] = length\n",
    "array[9] = width\n",
    "array[10] = height\n",
    "array[11] = curb_weight\n",
    "array[12] = num_of_cylinders\n",
    "array[13] = engine_size\n",
    "array[14] = bore\n",
    "array[15] = stroke\n",
    "array[16] = compression_ratio\n",
    "array[17] = horsepower\n",
    "array[18] = peak_rpm\n",
    "array[19] = city_mpg\n",
    "array[20] = highway_mpg\n",
    "\n",
    "\n",
    "array[body_style_index] = 1\n",
    "array[engine_type_index] = 1\n",
    "array[fuel_system_index] = 1\n",
    "\n",
    "predicted_price = model.predict([array])[0]\n",
    "print(\"Predicted Price of your Car :\",predicted_price, \"$\")"
   ]
  },
  {
   "cell_type": "code",
   "execution_count": null,
   "id": "bd93cfbd",
   "metadata": {},
   "outputs": [],
   "source": []
  }
 ],
 "metadata": {
  "kernelspec": {
   "display_name": "Python 3 (ipykernel)",
   "language": "python",
   "name": "python3"
  },
  "language_info": {
   "codemirror_mode": {
    "name": "ipython",
    "version": 3
   },
   "file_extension": ".py",
   "mimetype": "text/x-python",
   "name": "python",
   "nbconvert_exporter": "python",
   "pygments_lexer": "ipython3",
   "version": "3.9.12"
  }
 },
 "nbformat": 4,
 "nbformat_minor": 5
}
